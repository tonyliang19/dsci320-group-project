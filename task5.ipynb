{
 "cells": [
  {
   "cell_type": "markdown",
   "id": "8408caec-325b-4b8a-b01f-5eb9d640b3ee",
   "metadata": {
    "tags": []
   },
   "source": [
    "# This notebook is for Task 5 only\n",
    "\n",
    "Improvements Task 5:\n",
    "- Refer to whatsapp\n",
    "- Composite of multi views/plots:\n",
    "    + One is the height histogram \n",
    "    + One is the overall histogram (slidable)\n",
    "    + Filter by dropdown country / region\n",
    "    + Dropdown affects height and overall, overall also affects height\n",
    "- Limit number of countries per region"
   ]
  },
  {
   "cell_type": "code",
   "execution_count": 9,
   "id": "d958b4c8-5a14-4d5f-9599-cc20c77881fc",
   "metadata": {},
   "outputs": [],
   "source": [
    "# imports\n",
    "import altair as alt\n",
    "import pandas as pd\n",
    "# altair specific\n",
    "alt.data_transformers.disable_max_rows()\n",
    "alt.data_transformers.enable('data_server')\n",
    "alt.renderers.enable('mimetype')\n",
    "\n",
    "# user defined modules\n",
    "from helpers import preprocessing, task_five_viz\n"
   ]
  },
  {
   "cell_type": "code",
   "execution_count": 10,
   "id": "e1fd06d6-e1ed-46fd-a138-4c147f883e51",
   "metadata": {},
   "outputs": [],
   "source": [
    "# helper function\n",
    "def get_data(data_path, preprocess=False):\n",
    "    data = pd.read_csv(data_path)\n",
    "    if preprocess is True:\n",
    "        fifa_subset = preprocessing(data)\n",
    "        # store to data\n",
    "        data = fifa_subset\n",
    "    return data"
   ]
  },
  {
   "cell_type": "code",
   "execution_count": 11,
   "id": "cf0d107d-8177-4272-a770-e9c5a790376b",
   "metadata": {},
   "outputs": [],
   "source": [
    "# read data here\n",
    "data_path = \"data/player_raw_data.csv\"\n",
    "# this is raw data\n",
    "fifa = get_data(data_path)\n",
    "# this is processed for Task 5 specific\n",
    "subset = get_data(data_path, preprocess=True)"
   ]
  },
  {
   "cell_type": "markdown",
   "id": "1d712a30-5236-416e-b683-a45cfb661ba8",
   "metadata": {},
   "source": [
    "> 5. Find the range of height that has the best average overall ranking by country \n",
    ">\n",
    ">    (how to phrase this but just finding the best height for performance) (interactive)\n",
    "\n",
    "To accomplish this:\n",
    "- One dropdown to control the country\n",
    "- One plot of `overall histogram` that could brushed to serve as slider\n",
    "- One plot of `height counts`, linked with `overall histogram`"
   ]
  },
  {
   "cell_type": "code",
   "execution_count": 12,
   "id": "5a4b8870-4957-4512-b88b-9f8eb934d034",
   "metadata": {},
   "outputs": [],
   "source": [
    "# helper to create the dummy data for task 5\n",
    "def task_five_dat(fifa_subset):\n",
    "    america_subset = fifa_subset[fifa_subset[\"region\"] == \"America\"]\n",
    "    countries_counts = america_subset.country.value_counts().to_frame(name=\"count\").reset_index().rename(columns={\"index\": \"country\"})\n",
    "    countries_interests = countries_counts.query('count > 225').country.tolist()\n",
    "    countries_subset = america_subset[america_subset.country.isin(countries_interests)]\n",
    "    return countries_subset\n",
    "# store that dummy data to \"american\"\n",
    "american = task_five_dat(subset)"
   ]
  },
  {
   "cell_type": "code",
   "execution_count": 17,
   "id": "33ae9d22-326e-4b96-a438-f6ef28b979bf",
   "metadata": {},
   "outputs": [],
   "source": [
    "def task_five_viz(data):\n",
    "    # slider\n",
    "    brush = alt.selection_interval(\n",
    "        encodings=[\"x\"],\n",
    "        resolve=\"intersect\"\n",
    "    )\n",
    "\n",
    "    # histogram for height and overall\n",
    "    base_hist = alt.Chart(data).mark_bar().encode(\n",
    "        x = alt.X(alt.repeat(\"row\"), type=\"quantitative\",\n",
    "                  bin=alt.Bin(maxbins=100, minstep=1)\n",
    "                 ),\n",
    "        y = alt.Y('count():Q', title=None)\n",
    "\n",
    "    )\n",
    "    # adding these by layers and render it\n",
    "    ovr_height_hist = alt.layer(\n",
    "        base_hist.add_selection(brush).encode(\n",
    "            color=alt.value('lightgrey')\n",
    "        ),\n",
    "        base_hist.transform_filter(brush)\n",
    "    ).properties(\n",
    "        width=900,\n",
    "        height=100\n",
    "    ).repeat(\n",
    "        row=['overall', 'height'],\n",
    "        data=subset\n",
    "    ).configure_view(\n",
    "        stroke='transparent' # no outline\n",
    "    )\n",
    "    return ovr_height_hist"
   ]
  },
  {
   "cell_type": "code",
   "execution_count": 18,
   "id": "844c355a-2938-4f90-9514-768e8dc1f31d",
   "metadata": {},
   "outputs": [],
   "source": [
    "viz = task_five_viz(american)"
   ]
  }
 ],
 "metadata": {
  "kernelspec": {
   "display_name": "Python [conda env:dsci320]",
   "language": "python",
   "name": "conda-env-dsci320-py"
  },
  "language_info": {
   "codemirror_mode": {
    "name": "ipython",
    "version": 3
   },
   "file_extension": ".py",
   "mimetype": "text/x-python",
   "name": "python",
   "nbconvert_exporter": "python",
   "pygments_lexer": "ipython3",
   "version": "3.10.9"
  }
 },
 "nbformat": 4,
 "nbformat_minor": 5
}
