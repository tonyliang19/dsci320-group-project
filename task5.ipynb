{
 "cells": [
  {
   "cell_type": "markdown",
   "id": "8408caec-325b-4b8a-b01f-5eb9d640b3ee",
   "metadata": {
    "tags": []
   },
   "source": [
    "# This notebook is for Task 5 only\n",
    "\n",
    "Improvements Task 5:\n",
    "- Refer to whatsapp\n",
    "- Composite of multi views/plots:\n",
    "    + One is the height histogram \n",
    "    + One is the overall histogram (slidable)\n",
    "    + Filter by dropdown country / region\n",
    "    + Dropdown affects height and overall, overall also affects height\n",
    "- Limit number of countries per region"
   ]
  },
  {
   "cell_type": "code",
   "execution_count": 5,
   "id": "d958b4c8-5a14-4d5f-9599-cc20c77881fc",
   "metadata": {},
   "outputs": [],
   "source": [
    "# imports\n",
    "import altair as alt\n",
    "import pandas as pd\n",
    "# altair specific\n",
    "alt.data_transformers.disable_max_rows()\n",
    "alt.data_transformers.enable('data_server')\n",
    "alt.renderers.enable('mimetype')\n",
    "\n",
    "# user defined modules\n",
    "from helpers import preprocessing\n"
   ]
  },
  {
   "cell_type": "code",
   "execution_count": 6,
   "id": "e1fd06d6-e1ed-46fd-a138-4c147f883e51",
   "metadata": {},
   "outputs": [],
   "source": [
    "# helper function\n",
    "def get_data(data_path, preprocess=False):\n",
    "    data = pd.read_csv(data_path)\n",
    "    if preprocess is True:\n",
    "        fifa_subset = preprocessing(data)\n",
    "        america_subset = fifa_subset[fifa_subset[\"region\"] == \"America\"]\n",
    "        countries_counts = america_subset.country.value_counts().to_frame(name=\"count\").reset_index().rename(columns={\"index\": \"country\"})\n",
    "        countries_interests = countries_counts.query('count > 225').country.tolist()\n",
    "        countries_subset = america_subset[america_subset.country.isin(countries_interests)]\n",
    "        # store to data\n",
    "        data = countries_subset\n",
    "    return data"
   ]
  },
  {
   "cell_type": "code",
   "execution_count": 7,
   "id": "cf0d107d-8177-4272-a770-e9c5a790376b",
   "metadata": {},
   "outputs": [],
   "source": [
    "# read data here\n",
    "data_path = \"data/player_raw_data.csv\"\n",
    "# this is raw data\n",
    "fifa = get_data(data_path)\n",
    "# this is processed for Task 5 specific\n",
    "subset = get_data(data_path, preprocess=True)"
   ]
  },
  {
   "cell_type": "markdown",
   "id": "1d712a30-5236-416e-b683-a45cfb661ba8",
   "metadata": {},
   "source": [
    "> 5. Find the range of height that has the best average overall ranking by country \n",
    ">\n",
    ">    (how to phrase this but just finding the best height for performance) (interactive)\n",
    "\n",
    "To accomplish this:\n",
    "- One plot of `overall histogram` that could brushed to serve as slider\n",
    "- One plot of `height counts`, linked with `overall histogram`"
   ]
  },
  {
   "cell_type": "code",
   "execution_count": 13,
   "id": "a1f40836-00fe-4828-a5ae-f0824e991f46",
   "metadata": {},
   "outputs": [],
   "source": [
    "# slider\n",
    "brush = alt.selection_interval(\n",
    "    encodings=[\"x\"],\n",
    "    resolve=\"intersect\"\n",
    ")"
   ]
  },
  {
   "cell_type": "code",
   "execution_count": 15,
   "id": "5307a8fb-e950-4cce-845b-001e884627e6",
   "metadata": {},
   "outputs": [],
   "source": [
    "# histogram for height and overall\n",
    "base_hist = alt.Chart(subset).mark_bar().encode(\n",
    "    x = alt.X(alt.repeat(\"row\"), type=\"quantitative\",\n",
    "              bin=alt.Bin(maxbins=100, minstep=1)\n",
    "             ),\n",
    "    y = alt.Y('count():Q', title=None)\n",
    "    \n",
    ")\n",
    "\n",
    "# adding these by layers and render it\n",
    "ovr_height_hist = alt.layer(\n",
    "    base_hist.add_selection(brush).encode(\n",
    "        color=alt.value('lightgrey')\n",
    "    ),\n",
    "    base_hist.transform_filter(brush)\n",
    ").properties(\n",
    "    width=900,\n",
    "    height=100\n",
    ").repeat(\n",
    "    row=['overall', 'height'],\n",
    "    data=subset\n",
    ").configure_view(\n",
    "    stroke='transparent' # no outline\n",
    ")\n"
   ]
  },
  {
   "cell_type": "code",
   "execution_count": 16,
   "id": "f6d03373-0a5e-4a19-a003-ff281279cbe9",
   "metadata": {},
   "outputs": [
    {
     "data": {
      "application/vnd.vegalite.v4+json": {
       "$schema": "https://vega.github.io/schema/vega-lite/v4.17.0.json",
       "config": {
        "view": {
         "continuousHeight": 300,
         "continuousWidth": 400,
         "stroke": "transparent"
        }
       },
       "data": {
        "url": "http://localhost:53886/e9c2cb51e0b1689f7ef34502a863803f.json"
       },
       "repeat": {
        "row": [
         "overall",
         "height"
        ]
       },
       "spec": {
        "data": {
         "url": "http://localhost:53886/e9c2cb51e0b1689f7ef34502a863803f.json"
        },
        "height": 100,
        "layer": [
         {
          "encoding": {
           "color": {
            "value": "lightgrey"
           },
           "x": {
            "bin": {
             "maxbins": 100,
             "minstep": 1
            },
            "field": {
             "repeat": "row"
            },
            "type": "quantitative"
           },
           "y": {
            "aggregate": "count",
            "title": null,
            "type": "quantitative"
           }
          },
          "mark": "bar",
          "selection": {
           "selector002": {
            "encodings": [
             "x"
            ],
            "resolve": "intersect",
            "type": "interval"
           }
          }
         },
         {
          "encoding": {
           "x": {
            "bin": {
             "maxbins": 100,
             "minstep": 1
            },
            "field": {
             "repeat": "row"
            },
            "type": "quantitative"
           },
           "y": {
            "aggregate": "count",
            "title": null,
            "type": "quantitative"
           }
          },
          "mark": "bar",
          "transform": [
           {
            "filter": {
             "selection": "selector002"
            }
           }
          ]
         }
        ],
        "width": 900
       }
      },
      "image/png": "[encoded data removed]",
      "text/plain": [
       "<VegaLite 4 object>\n",
       "\n",
       "If you see this message, it means the renderer has not been properly enabled\n",
       "for the frontend that you are using. For more information, see\n",
       "https://altair-viz.github.io/user_guide/troubleshooting.html\n"
      ]
     },
     "execution_count": 16,
     "metadata": {},
     "output_type": "execute_result"
    }
   ],
   "source": [
    "ovr_height_hist"
   ]
  }
 ],
 "metadata": {
  "kernelspec": {
   "display_name": "Python [conda env:dsci320]",
   "language": "python",
   "name": "conda-env-dsci320-py"
  },
  "language_info": {
   "codemirror_mode": {
    "name": "ipython",
    "version": 3
   },
   "file_extension": ".py",
   "mimetype": "text/x-python",
   "name": "python",
   "nbconvert_exporter": "python",
   "pygments_lexer": "ipython3",
   "version": "3.10.9"
  }
 },
 "nbformat": 4,
 "nbformat_minor": 5
}
