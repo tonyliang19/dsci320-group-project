{
 "cells": [
  {
   "cell_type": "markdown",
   "id": "8408caec-325b-4b8a-b01f-5eb9d640b3ee",
   "metadata": {
    "tags": []
   },
   "source": [
    "# This notebook is for Task 5 only\n",
    "\n",
    "Improvements Task 5:\n",
    "- Refer to whatsapp\n",
    "- Composite of multi views/plots:\n",
    "    + One is the height histogram \n",
    "    + One is the overall histogram (slidable)\n",
    "    + Filter by dropdown country / region\n",
    "    + Dropdown affects height and overall, overall also affects height\n",
    "- Limit number of countries per region"
   ]
  },
  {
   "cell_type": "code",
   "execution_count": 9,
   "id": "d958b4c8-5a14-4d5f-9599-cc20c77881fc",
   "metadata": {},
   "outputs": [],
   "source": [
    "# imports\n",
    "import altair as alt\n",
    "import pandas as pd\n",
    "# altair specific\n",
    "alt.data_transformers.disable_max_rows()\n",
    "alt.data_transformers.enable('data_server')\n",
    "alt.renderers.enable('mimetype')\n",
    "\n",
    "# user defined modules\n",
    "from helpers import preprocessing, task_five_viz\n"
   ]
  },
  {
   "cell_type": "code",
   "execution_count": 10,
   "id": "e1fd06d6-e1ed-46fd-a138-4c147f883e51",
   "metadata": {},
   "outputs": [],
   "source": [
    "# helper function\n",
    "def get_data(data_path, preprocess=False):\n",
    "    data = pd.read_csv(data_path)\n",
    "    if preprocess is True:\n",
    "        fifa_subset = preprocessing(data)\n",
    "        # store to data\n",
    "        data = fifa_subset\n",
    "    return data"
   ]
  },
  {
   "cell_type": "code",
   "execution_count": 11,
   "id": "cf0d107d-8177-4272-a770-e9c5a790376b",
   "metadata": {},
   "outputs": [],
   "source": [
    "# read data here\n",
    "data_path = \"data/player_raw_data.csv\"\n",
    "# this is raw data\n",
    "fifa = get_data(data_path)\n",
    "# this is processed for Task 5 specific\n",
    "subset = get_data(data_path, preprocess=True)"
   ]
  },
  {
   "cell_type": "markdown",
   "id": "1d712a30-5236-416e-b683-a45cfb661ba8",
   "metadata": {},
   "source": [
    "> 5. Find the range of height that has the best average overall ranking by country \n",
    ">\n",
    ">    (how to phrase this but just finding the best height for performance) (interactive)\n",
    "\n",
    "To accomplish this:\n",
    "- One dropdown to control the country\n",
    "- One plot of `overall histogram` that could brushed to serve as slider\n",
    "- One plot of `height counts`, linked with `overall histogram`"
   ]
  },
  {
   "cell_type": "code",
   "execution_count": 156,
   "id": "2290169b-0dcc-428c-90a7-e2e860289f43",
   "metadata": {},
   "outputs": [
    {
     "data": {
      "application/vnd.vegalite.v4+json": {
       "$schema": "https://vega.github.io/schema/vega-lite/v4.17.0.json",
       "config": {
        "view": {
         "continuousHeight": 300,
         "continuousWidth": 400,
         "stroke": "transparent"
        }
       },
       "data": {
        "url": "http://localhost:54185/e3f626e0e944b091c835bb0a625d8826.json"
       },
       "repeat": {
        "row": [
         "overall",
         "height"
        ]
       },
       "spec": {
        "data": {
         "url": "http://localhost:54185/e3f626e0e944b091c835bb0a625d8826.json"
        },
        "height": 100,
        "layer": [
         {
          "encoding": {
           "color": {
            "value": "lightgrey"
           },
           "x": {
            "bin": {
             "maxbins": 50
            },
            "field": {
             "repeat": "row"
            },
            "type": "quantitative"
           },
           "y": {
            "aggregate": "count",
            "title": null,
            "type": "quantitative"
           }
          },
          "mark": "bar",
          "selection": {
           "Select": {
            "bind": {
             "country": {
              "input": "select",
              "options": [
               "Albania",
               "Algeria",
               "Angola",
               "Argentina",
               "Armenia",
               "Australia",
               "Austria",
               "Azerbaijan",
               "Barbados",
               "Belarus",
               "Belgium",
               "Benin",
               "Bolivia",
               "Bosnia and Herzegovina",
               "Brazil",
               "Bulgaria",
               "Burkina Faso",
               "Burundi",
               "Cameroon",
               "Canada",
               "Cape Verde Islands",
               "Central African Republic",
               "Chile",
               "China PR",
               "Colombia",
               "Comoros",
               "Congo",
               "Congo DR",
               "Costa Rica",
               "Croatia",
               "Cuba",
               "Curacao",
               "Cyprus",
               "Czech Republic",
               "Côte d'Ivoire",
               "Denmark",
               "Dominican Republic",
               "Ecuador",
               "Egypt",
               "El Salvador",
               "England",
               "Equatorial Guinea",
               "Estonia",
               "Finland",
               "France",
               "Gabon",
               "Gambia",
               "Georgia",
               "Germany",
               "Ghana",
               "Gibraltar",
               "Greece",
               "Grenada",
               "Guatemala",
               "Guinea",
               "Guinea Bissau",
               "Guyana",
               "Haiti",
               "Honduras",
               "Hong Kong",
               "Hungary",
               "Iceland",
               "India",
               "Indonesia",
               "Iran",
               "Iraq",
               "Israel",
               "Italy",
               "Jamaica",
               "Japan",
               "Jordan",
               "Kazakhstan",
               "Kenya",
               "Korea DPR",
               "Korea Republic",
               "Kosovo",
               "Latvia",
               "Liberia",
               "Libya",
               "Lithuania",
               "Luxembourg",
               "Madagascar",
               "Malawi",
               "Malaysia",
               "Mali",
               "Malta",
               "Mauritania",
               "Mexico",
               "Moldova",
               "Montenegro",
               "Montserrat",
               "Morocco",
               "Mozambique",
               "Namibia",
               "Nepal",
               "Netherlands",
               "New Zealand",
               "Niger",
               "Nigeria",
               "North Macedonia",
               "Northern Ireland",
               "Norway",
               "Palestine",
               "Panama",
               "Paraguay",
               "Peru",
               "Philippines",
               "Poland",
               "Portugal",
               "Puerto Rico",
               "Republic of Ireland",
               "Romania",
               "Russia",
               "Saint Kitts and Nevis",
               "San Marino",
               "Saudi Arabia",
               "Scotland",
               "Senegal",
               "Serbia",
               "Sierra Leone",
               "Slovakia",
               "Slovenia",
               "South Africa",
               "South Sudan",
               "Spain",
               "Sudan",
               "Suriname",
               "Sweden",
               "Switzerland",
               "Tanzania",
               "Thailand",
               "Togo",
               "Trinidad and Tobago",
               "Tunisia",
               "Turkey",
               "Uganda",
               "Ukraine",
               "United Arab Emirates",
               "United States",
               "Uruguay",
               "Uzbekistan",
               "Venezuela",
               "Wales",
               "Zambia",
               "Zimbabwe"
              ]
             },
             "region": {
              "input": "radio",
              "options": [
               "Africa",
               "America",
               "Asia",
               "Europe",
               "Oceania"
              ]
             }
            },
            "fields": [
             "country",
             "region"
            ],
            "init": {
             "country": "Albania",
             "region": "Europe"
            },
            "type": "single"
           },
           "selector070": {
            "encodings": [
             "x"
            ],
            "resolve": "intersect",
            "type": "interval"
           }
          }
         },
         {
          "encoding": {
           "x": {
            "bin": {
             "maxbins": 50
            },
            "field": {
             "repeat": "row"
            },
            "type": "quantitative"
           },
           "y": {
            "aggregate": "count",
            "title": null,
            "type": "quantitative"
           }
          },
          "mark": "bar",
          "transform": [
           {
            "filter": {
             "selection": "selector070"
            }
           }
          ]
         }
        ],
        "width": 900
       },
       "transform": [
        {
         "filter": {
          "selection": "Select"
         }
        }
       ]
      },
      "image/png": "[encoded data removed]",
      "text/plain": [
       "<VegaLite 4 object>\n",
       "\n",
       "If you see this message, it means the renderer has not been properly enabled\n",
       "for the frontend that you are using. For more information, see\n",
       "https://altair-viz.github.io/user_guide/troubleshooting.html\n"
      ]
     },
     "execution_count": 156,
     "metadata": {},
     "output_type": "execute_result"
    }
   ],
   "source": [
    "# need to add zoom in\n",
    "def task_five_viz(data):\n",
    "    # slider\n",
    "    brush = alt.selection_interval(\n",
    "        encodings=[\"x\"],\n",
    "        resolve=\"intersect\"\n",
    "    )\n",
    "    \n",
    "    # list of countries and countries\n",
    "    countries = sorted(data.country.unique())\n",
    "    regions = sorted(data.region.unique())\n",
    "    \n",
    "    \n",
    "    selection = alt.selection_single(\n",
    "        name=\"Select\",\n",
    "        fields=[\"country\", \"region\"],\n",
    "        init={\"country\": \"Albania\", \"region\": \"Europe\"},\n",
    "        bind={\"country\": alt.binding_select(options=countries),\n",
    "              \"region\": alt.binding_radio(options=regions)\n",
    "             }\n",
    "    )\n",
    "    \n",
    "    # histogram for height and overall\n",
    "    base_hist = alt.Chart(data).mark_bar().encode(\n",
    "        x = alt.X(alt.repeat(\"row\"), type=\"quantitative\",\n",
    "                  bin=alt.Bin(maxbins=50)\n",
    "                 ),\n",
    "        y = alt.Y('count():Q', title=None)\n",
    "    )\n",
    "    # adding these by layers and render it\n",
    "    ovr_height_hist = alt.layer(base_hist.add_selection(brush).encode(\n",
    "                                color=alt.value('lightgrey')\n",
    "    ),\n",
    "                    base_hist.transform_filter(brush)\n",
    "    ).properties(\n",
    "        width=900,\n",
    "        height=100\n",
    "    ).repeat(\n",
    "        row=['overall', 'height'],\n",
    "        data=data\n",
    "    ).configure_view(\n",
    "        stroke='transparent' # no outline\n",
    "    ).add_selection(selection).transform_filter(selection) # add extra drop down\n",
    "    # NOTE countries is not updating dynamically\n",
    "    return ovr_height_hist\n",
    "\n",
    "viz = task_five_viz(data=subset) \n",
    "viz"
   ]
  },
  {
   "cell_type": "code",
   "execution_count": null,
   "id": "90310b4d-281d-485a-97d5-24d4e21be75a",
   "metadata": {},
   "outputs": [],
   "source": [
    "# need to add zoom in\n",
    "def task_five_viz(data):\n",
    "    # slider\n",
    "    brush = alt.selection_interval(\n",
    "        encodings=[\"x\"],\n",
    "        resolve=\"intersect\"\n",
    "    )\n",
    "    \n",
    "    # list of countries and countries\n",
    "    countries = sorted(data.country.unique())\n",
    "    regions = sorted(data.region.unique())\n",
    "    \n",
    "    # country select\n",
    "    country_sel = alt.selection_single(\n",
    "        name=\"Country\",\n",
    "        fields=[\"country\"]\n",
    "    )\n",
    "    selection = alt.selection_single(\n",
    "        name=\"Select\",\n",
    "        fields=[\"country\", \"region\"],\n",
    "        init={\"country\": \"Albania\", \"region\": \"Europe\"},\n",
    "        bind={\"country\": alt.binding_select(options=countries),\n",
    "              \"region\": alt.binding_radio(options=regions)\n",
    "             }\n",
    "    )\n",
    "    \n",
    "    # histogram for height and overall\n",
    "    base_hist = alt.Chart(data).mark_bar().encode(\n",
    "        x = alt.X(alt.repeat(\"row\"), type=\"quantitative\",\n",
    "                  bin=alt.Bin(maxbins=50)\n",
    "                 ),\n",
    "        y = alt.Y('count():Q', title=None)\n",
    "    )\n",
    "    # adding these by layers and render it\n",
    "    ovr_height_hist = alt.layer(base_hist.add_selection(brush).encode(\n",
    "                                color=alt.value('lightgrey')\n",
    "    ),\n",
    "                    base_hist.transform_filter(brush)\n",
    "    ).properties(\n",
    "        width=900,\n",
    "        height=100\n",
    "    ).repeat(\n",
    "        row=['overall', 'height'],\n",
    "        data=data\n",
    "    ).configure_view(\n",
    "        stroke='transparent' # no outline\n",
    "    ).add_selection(selection).transform_filter(selection) # add extra drop down\n",
    "    # NOTE countries is not updating dynamically\n",
    "    return ovr_height_hist\n",
    "\n",
    "viz = task_five_viz(data=subset) \n",
    "viz"
   ]
  }
 ],
 "metadata": {
  "kernelspec": {
   "display_name": "Python [conda env:dsci320]",
   "language": "python",
   "name": "conda-env-dsci320-py"
  },
  "language_info": {
   "codemirror_mode": {
    "name": "ipython",
    "version": 3
   },
   "file_extension": ".py",
   "mimetype": "text/x-python",
   "name": "python",
   "nbconvert_exporter": "python",
   "pygments_lexer": "ipython3",
   "version": "3.10.9"
  }
 },
 "nbformat": 4,
 "nbformat_minor": 5
}
