{
 "cells": [
  {
   "cell_type": "markdown",
   "id": "8408caec-325b-4b8a-b01f-5eb9d640b3ee",
   "metadata": {
    "tags": []
   },
   "source": [
    "# This notebook is for Task 5 only\n",
    "\n",
    "Improvements Task 5:\n",
    "- Refer to whatsapp\n",
    "- Composite of multi views/plots:\n",
    "    + One is the height histogram \n",
    "    + One is the overall histogram (slidable)\n",
    "    + Filter by dropdown country / region\n",
    "    + Dropdown affects height and overall, overall also affects height\n",
    "- Limit number of countries per region"
   ]
  },
  {
   "cell_type": "code",
   "execution_count": null,
   "id": "d958b4c8-5a14-4d5f-9599-cc20c77881fc",
   "metadata": {},
   "outputs": [],
   "source": [
    "# imports\n",
    "import altair as alt\n",
    "import pandas as pd\n",
    "import sys\n",
    "import os\n",
    "# altair specific\n",
    "alt.data_transformers.disable_max_rows()\n",
    "alt.data_transformers.enable('data_server')\n",
    "alt.renderers.enable('mimetype')\n",
    "# adds parent directory to this notebook, so it could use relative import\n",
    "sys.path.append(os.path.dirname(os.getcwd()))\n",
    "\n",
    "# user defined modules\n",
    "from src.helpers import get_data\n"
   ]
  },
  {
   "cell_type": "code",
   "execution_count": 2,
   "id": "cf0d107d-8177-4272-a770-e9c5a790376b",
   "metadata": {},
   "outputs": [],
   "source": [
    "# read data here\n",
    "data_path = \"../data/player_raw_data.csv\"\n",
    "# this is raw data\n",
    "fifa = get_data(data_path)\n",
    "# this is processed for Task 5 specific\n",
    "subset = get_data(data_path, preprocess=True)"
   ]
  },
  {
   "cell_type": "markdown",
   "id": "1d712a30-5236-416e-b683-a45cfb661ba8",
   "metadata": {},
   "source": [
    "> 5. Find the range of height that has the best average overall ranking by country \n",
    ">\n",
    ">    (how to phrase this but just finding the best height for performance) (interactive)\n",
    "\n",
    "To accomplish this:\n",
    "- One dropdown to control the country\n",
    "- One plot of `overall histogram` that could brushed to serve as slider\n",
    "- One plot of `height counts`, linked with `overall histogram`"
   ]
  },
  {
   "cell_type": "code",
   "execution_count": 3,
   "id": "90310b4d-281d-485a-97d5-24d4e21be75a",
   "metadata": {
    "tags": []
   },
   "outputs": [
    {
     "ename": "NameError",
     "evalue": "name 'subset_2' is not defined",
     "output_type": "error",
     "traceback": [
      "\u001b[1;31m---------------------------------------------------------------------------\u001b[0m",
      "\u001b[1;31mNameError\u001b[0m                                 Traceback (most recent call last)",
      "Cell \u001b[1;32mIn[3], line 55\u001b[0m\n\u001b[0;32m     51\u001b[0m     \u001b[38;5;66;03m# NOTE countries is not updating dynamically\u001b[39;00m\n\u001b[0;32m     52\u001b[0m     \u001b[38;5;66;03m# Check this https://stackoverflow.com/questions/61754243/altair-controlling-one-dropdown-using-another\u001b[39;00m\n\u001b[0;32m     53\u001b[0m     \u001b[38;5;28;01mreturn\u001b[39;00m ovr_height_hist\n\u001b[1;32m---> 55\u001b[0m viz \u001b[38;5;241m=\u001b[39m task_five_viz(data\u001b[38;5;241m=\u001b[39m\u001b[43msubset_2\u001b[49m) \n\u001b[0;32m     56\u001b[0m viz \u001b[38;5;66;03m# use this instead\u001b[39;00m\n\u001b[0;32m     57\u001b[0m \u001b[38;5;66;03m#viz.interactive() # THiS is extremely hard to control use wisely\u001b[39;00m\n",
      "\u001b[1;31mNameError\u001b[0m: name 'subset_2' is not defined"
     ]
    }
   ],
   "source": [
    "\n",
    "def task_five_viz(data):\n",
    "    # this is required processing to handle extra option of All regions together\n",
    "    dup = data.copy()\n",
    "    dup[\"country\"] = \"All\"\n",
    "    data = pd.concat([subset, dup])\n",
    "    \n",
    "    # list of countries and countries\n",
    "    countries = sorted(data.country.unique())\n",
    "    countries.remove(\"All\")\n",
    "    countries.insert(0, \"All\")\n",
    "    regions = sorted(data.region.unique())\n",
    "    \n",
    "    # slider\n",
    "    brush = alt.selection_interval(\n",
    "        encodings=[\"x\"], # THis is hard to control both x and y, preferably use one encoding only\n",
    "        resolve=\"global\", # \"intersect\"\n",
    "        empty=\"all\" # add option to by default it selects all, to change this use \"none\" instead\n",
    "    )\n",
    "    \n",
    "    # selector\n",
    "    selection = alt.selection_single(\n",
    "        name=\"Select\",\n",
    "        fields=[\"country\", \"region\"],\n",
    "        init={\"country\": \"All\", \"region\": \"Africa\"},\n",
    "        bind={\"country\": alt.binding_select(options=countries),\n",
    "              \"region\": alt.binding_radio(options=regions)\n",
    "             }\n",
    "    )\n",
    "    \n",
    "    # histogram for height and overall\n",
    "    base_hist = alt.Chart(data).mark_bar().encode(\n",
    "        x = alt.X(alt.repeat(\"row\"), type=\"quantitative\",\n",
    "                  bin=alt.Bin(maxbins=50)\n",
    "                 ),\n",
    "        y = alt.Y('count():Q', title=None)\n",
    "    )\n",
    "    # adding these by layers and render it\n",
    "    ovr_height_hist = alt.layer(base_hist.add_selection(brush).encode(\n",
    "                                color=alt.value('lightgrey')\n",
    "    ),\n",
    "                    base_hist.transform_filter(brush)\n",
    "    ).properties(\n",
    "        width=900,\n",
    "        height=100\n",
    "    ).repeat(\n",
    "        row=['height', 'overall'],\n",
    "        data=data\n",
    "    ).configure_view(\n",
    "        stroke='transparent' # no outline\n",
    "    ).add_selection(selection).transform_filter(selection) # add extra drop down\n",
    "    # NOTE countries is not updating dynamically\n",
    "    # Check this https://stackoverflow.com/questions/61754243/altair-controlling-one-dropdown-using-another\n",
    "    return ovr_height_hist\n",
    "\n",
    "viz = task_five_viz(data=subset_2) \n",
    "viz # use this instead\n",
    "#viz.interactive() # THiS is extremely hard to control use wisely"
   ]
  }
 ],
 "metadata": {
  "kernelspec": {
   "display_name": "Python [conda env:dsci320]",
   "language": "python",
   "name": "conda-env-dsci320-py"
  },
  "language_info": {
   "codemirror_mode": {
    "name": "ipython",
    "version": 3
   },
   "file_extension": ".py",
   "mimetype": "text/x-python",
   "name": "python",
   "nbconvert_exporter": "python",
   "pygments_lexer": "ipython3",
   "version": "3.10.9"
  }
 },
 "nbformat": 4,
 "nbformat_minor": 5
}
