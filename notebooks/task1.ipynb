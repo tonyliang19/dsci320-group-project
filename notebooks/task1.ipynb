{
 "cells": [
  {
   "cell_type": "code",
   "execution_count": 1,
   "id": "02fb3b35-85ad-4e37-aa68-fa471656ae47",
   "metadata": {},
   "outputs": [],
   "source": [
    "# imports\n",
    "import altair as alt\n",
    "import pandas as pd\n",
    "import sys\n",
    "import os\n",
    "# altair specific\n",
    "alt.data_transformers.disable_max_rows()\n",
    "alt.data_transformers.enable('data_server')\n",
    "alt.renderers.enable('mimetype')\n",
    "# adds parent directory to this notebook, so it could use relative import\n",
    "sys.path.append(os.path.dirname(os.getcwd()))\n",
    "\n",
    "# user defined modules\n",
    "from src.helpers import get_data\n"
   ]
  },
  {
   "cell_type": "code",
   "execution_count": 2,
   "id": "fd0d0084-d7da-4620-8ca7-e69de8fa4f92",
   "metadata": {},
   "outputs": [],
   "source": [
    "# read data here\n",
    "data_path = \"../data/player_raw_data.csv\"\n",
    "# this is raw data\n",
    "fifa = get_data(data_path)\n",
    "# this is processed for Task 5 specific\n",
    "fifa_processed = get_data(data_path, preprocess=True)"
   ]
  },
  {
   "cell_type": "markdown",
   "id": "12f3deb9-b4b6-4edb-af2c-7f4fe2e109f9",
   "metadata": {},
   "source": [
    "Improvements Task 1:\n",
    "- Consider selection filter by Region (preffered this one)/Country(or country per each of the repeated single chart)\n",
    "- The sorting of median requires manually pre-ordered levels (as a list of strings) of the attribute to be sorted. (Refer to assignment 5)\n",
    "- Not necessary all countries have to appear, if they have too little counts/records, then could be omitted (or blank away by setting opacity to 0)\n",
    "- Could only just show top 10/5 countries of the region as well\n",
    "\n",
    "**NOTE**: The bullets are incorporated altogether and meant to work at the same time?"
   ]
  },
  {
   "cell_type": "code",
   "execution_count": 34,
   "id": "190efe8f-56fc-42cd-aba0-ced599aba24b",
   "metadata": {},
   "outputs": [
    {
     "data": {
      "application/vnd.vegalite.v4+json": {
       "$schema": "https://vega.github.io/schema/vega-lite/v4.17.0.json",
       "config": {
        "view": {
         "continuousHeight": 300,
         "continuousWidth": 400
        }
       },
       "data": {
        "url": "http://localhost:52570/e3f626e0e944b091c835bb0a625d8826.json"
       },
       "facet": {
        "field": "region",
        "type": "nominal"
       },
       "spec": {
        "encoding": {
         "color": {
          "field": "region",
          "type": "nominal"
         },
         "x": {
          "field": "aggression",
          "title": "Aggression of Player",
          "type": "quantitative"
         },
         "y": {
          "field": "country",
          "title": "Country",
          "type": "nominal"
         }
        },
        "mark": "boxplot"
       },
       "transform": [
        {
         "filter": {
          "equal": "Oceania",
          "field": "region"
         }
        }
       ]
      },
      "image/png": "[encoded data removed]",
      "text/plain": [
       "<VegaLite 4 object>\n",
       "\n",
       "If you see this message, it means the renderer has not been properly enabled\n",
       "for the frontend that you are using. For more information, see\n",
       "https://altair-viz.github.io/user_guide/troubleshooting.html\n"
      ]
     },
     "execution_count": 34,
     "metadata": {},
     "output_type": "execute_result"
    }
   ],
   "source": [
    "# get list of countries ordered by median aggression value\n",
    "def task_one_viz(data):\n",
    "    regions = sorted(data.region.unique())\n",
    "    # country_median = fifa_processed.groupby(['country'], as_index=False).agg({'country':'first', 'region':'first', \"aggression\":'median'})\n",
    "    # top_10_per_region_df = country_median.groupby(['region','country'])[\"aggression\"].nlargest(100).reset_index().drop(columns='level_2') \n",
    "    # ordered_top_10 = top_10_per_region_df.sort_values(['region','aggression','country'],ascending=False).groupby('aggression')['country'].head(10).to_list()\n",
    "\n",
    "    # radio selection\n",
    "    # radio = alt.selection_single(\n",
    "    # name=\"Select\",\n",
    "    # fields=[\"region\"],\n",
    "    # #init={\"country\": \"All\", \"region\": \"Africa\"},\n",
    "    # bind={\"region\": alt.binding_radio(options=regions)}\n",
    "    # )\n",
    "    \n",
    "    # create base plot\n",
    "    aggr_base = alt.Chart(data).mark_boxplot().encode(\n",
    "            x = alt.X(\"aggression:Q\", title=\"Aggression of Player\"),\n",
    "            y = alt.Y(\"country:N\", title=\"Country\"),#, sort=ordered_top_10),\n",
    "            color = alt.Color('region:N')\n",
    "    )\n",
    "\n",
    "    # #aggr_base\n",
    "    #create chart basis to add aggr_base by horizontal concatenation\n",
    "    #aggr_chart = alt.hconcat()\n",
    "    aggr_chart = aggr_base.facet(\n",
    "        facet='region:N'\n",
    "    ).transform_filter(alt.FieldEqualPredicate(field='region', equal = region))\n",
    "    \n",
    "    return aggr_chart\n",
    "    # honcat each of the base from different region filtered\n",
    "    # for region in regions:\n",
    "    #     aggr_chart |= aggr_base.add_selection(radio).transform_filter(\n",
    "    #         alt.FieldEqualPredicate(field='region', equal = region)\n",
    "    #     ).properties(\n",
    "    #         title=f\"Aggression Distribution of Players of {region}\"\n",
    "    #     )\n",
    "    # return aggr_chart\n",
    "    #return aggr_chart\n",
    "\n",
    "t1_plot = task_one_viz(fifa_processed)\n",
    "t1_plot"
   ]
  }
 ],
 "metadata": {
  "kernelspec": {
   "display_name": "Python [conda env:dsci320]",
   "language": "python",
   "name": "conda-env-dsci320-py"
  },
  "language_info": {
   "codemirror_mode": {
    "name": "ipython",
    "version": 3
   },
   "file_extension": ".py",
   "mimetype": "text/x-python",
   "name": "python",
   "nbconvert_exporter": "python",
   "pygments_lexer": "ipython3",
   "version": "3.10.9"
  }
 },
 "nbformat": 4,
 "nbformat_minor": 5
}
