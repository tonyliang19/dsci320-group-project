{
 "cells": [
  {
   "cell_type": "markdown",
   "id": "1b812613-3a79-47c8-bb06-cf8096d952ce",
   "metadata": {},
   "source": [
    "## This notebook is for Task 2 only\n",
    "\n",
    "Improvements Task 2:\n",
    "\n",
    "- Refer to one of the picture sent of whatsapp\n",
    "- Could split chart into two/three views:\n",
    "    + one is all wages, ranging from mininum to max\n",
    "    + other is some wages, ranging from minimum to user-selected end point\n",
    "    + And above two stack together vertically?\n",
    "- Violin plots can zoom by changing the ranges\n",
    "- Add another two more charts that are \"weighted\" by attribute 1 (one chart), attribute 2 (another chart), and these two could have selection filters on the wages violin plot\n",
    "- Consider dropdown filter by region/country"
   ]
  },
  {
   "cell_type": "code",
   "execution_count": 1,
   "id": "9c4131aa-8c86-4945-be6a-01e3b58da497",
   "metadata": {},
   "outputs": [],
   "source": [
    "# imports\n",
    "import altair as alt\n",
    "import pandas as pd\n",
    "import sys\n",
    "import os\n",
    "# altair specific\n",
    "alt.data_transformers.disable_max_rows()\n",
    "alt.data_transformers.enable('data_server')\n",
    "alt.renderers.enable('mimetype')\n",
    "# adds parent directory to this notebook, so it could use relative import\n",
    "sys.path.append(os.path.dirname(os.getcwd()))\n",
    "\n",
    "# user defined modules\n",
    "from src.helpers import get_data\n"
   ]
  },
  {
   "cell_type": "code",
   "execution_count": 2,
   "id": "4cf8c12f-d4bf-4bcb-ba33-e06586e2ee55",
   "metadata": {},
   "outputs": [],
   "source": [
    "# read data here\n",
    "data_path = \"../data/player_raw_data.csv\"\n",
    "# this is raw data\n",
    "fifa = get_data(data_path)\n",
    "# this is processed for Task 5 specific\n",
    "subset = get_data(data_path, preprocess=True)"
   ]
  },
  {
   "cell_type": "markdown",
   "id": "70721caa-bc7f-4d2e-a1d7-599a39cb37f6",
   "metadata": {},
   "source": [
    ">2. Discover distribution of wages by continent/country. Include weighted by skill/some attributes. \n",
    ">\n",
    "> Those that do better would be paying their players more high std, should give pretty spread distributions\n",
    "\n"
   ]
  },
  {
   "cell_type": "code",
   "execution_count": 3,
   "id": "c332fbe7-346e-42c8-afea-1aacc9025b76",
   "metadata": {},
   "outputs": [],
   "source": [
    "def attribute_histogram(data):\n",
    "    # base histogram, add selector later\n",
    "    attr_hist = alt.Chart(data).mark_bar().encode(\n",
    "        x = alt.X(\"value:Q\", bin=alt.Bin(maxbins=50)),\n",
    "        y='count()',\n",
    "        color = \"region:N\"\n",
    "    )\n",
    "    \n",
    "    return attr_hist"
   ]
  },
  {
   "cell_type": "code",
   "execution_count": 4,
   "id": "2a9893c8-a94a-4581-bb47-84025bb9d507",
   "metadata": {},
   "outputs": [],
   "source": [
    "def wage_vio_plt(data):\n",
    "    wage_violin = alt.Chart(data).transform_density(\n",
    "        'wage',\n",
    "        extent=[10_000, 250_000],\n",
    "        as_=['wage', 'density'],\n",
    "        groupby=['region', 'attribute']\n",
    "    ).mark_area(orient='horizontal').encode(\n",
    "        y=alt.Y('wage:Q', title=\"Wage (Euros)\"),\n",
    "        color=alt.Color('region:N', title=\"Region\"),\n",
    "        x=alt.X(\n",
    "            'density:Q',\n",
    "            stack='center',\n",
    "            impute=None,\n",
    "            title=None,\n",
    "            axis=alt.Axis(labels=False, values=[0], grid=False, ticks=True),\n",
    "        ),\n",
    "        column=alt.Column(\n",
    "            'region:N',\n",
    "            title=\"Region\",\n",
    "            header=alt.Header(titleOrient='bottom', labelOrient='bottom', labelPadding=0)\n",
    "        )\n",
    "    ).properties(\n",
    "        width=100,\n",
    "        height=400,\n",
    "        title=\"Wage Distribution By Region (Continent)\"\n",
    "    )\n",
    "    \n",
    "    return wage_violin"
   ]
  },
  {
   "cell_type": "code",
   "execution_count": 5,
   "id": "7d902374-d47f-4af6-9b54-813de324215c",
   "metadata": {},
   "outputs": [],
   "source": [
    "# using violet plot could be misleading, since max is 450_000, min is like 500\n",
    "def task_two_viz(data):\n",
    "    \n",
    "    # get the attributes for options in the dropdown\n",
    "    attributes = data.columns.tolist()[3:]\n",
    "    attributes.remove(\"preferred_foot\")\n",
    "    attributes.remove('wage')\n",
    "    # helper data to plot this attribute historgram\n",
    "    helper_data = data.copy().melt(id_vars = [\"country\", \"region\", \"wage\"],  value_vars = attributes, var_name = \"attribute\", value_name = \"value\")\n",
    "    \n",
    "     # Click on the specfic Region\n",
    "    click = alt.selection_single(\n",
    "        #empty='none',\n",
    "        fields=['region'],\n",
    "        bind='legend'\n",
    "    )\n",
    "    \n",
    "    # Dropwdown menu, initial attribute is age\n",
    "    dropdown = alt.selection_single(\n",
    "        name=\"Select\",\n",
    "        init={\"attribute\": \"age\"},\n",
    "        bind={\"attribute\": alt.binding_select(options=attributes),\n",
    "             }\n",
    "        )\n",
    "    \n",
    "    # slider\n",
    "    brush = alt.selection_interval(\n",
    "        encodings=[\"y\"],\n",
    "        resolve=\"global\",\n",
    "        empty=\"all\"\n",
    "    )\n",
    "\n",
    "    # helper to create attribute histogram\n",
    "    attr_hist = attribute_histogram(data=helper_data).add_selection(dropdown).add_selection(click).transform_filter(dropdown & brush & click)\n",
    "    # helper to create wage violin plot\n",
    "    wage_violin = wage_vio_plt(data=helper_data).encode(\n",
    "        opacity = alt.condition(click, alt.value(1.0), alt.value(0.01))\n",
    "    ).add_selection(brush).add_selection(click).transform_filter(dropdown)\n",
    "    output = (wage_violin | attr_hist).configure_facet(\n",
    "       spacing=0\n",
    "    ).configure_view(\n",
    "       stroke=None\n",
    "    )\n",
    "    return output\n",
    "t2_plot = task_two_viz(data=subset)"
   ]
  },
  {
   "cell_type": "code",
   "execution_count": 6,
   "id": "ab35dcf5-0991-4d14-8e2e-89cf4f27a9e9",
   "metadata": {},
   "outputs": [
    {
     "data": {
      "application/vnd.vegalite.v4+json": {
       "$schema": "https://vega.github.io/schema/vega-lite/v4.17.0.json",
       "config": {
        "facet": {
         "spacing": 0
        },
        "view": {
         "continuousHeight": 300,
         "continuousWidth": 400,
         "stroke": null
        }
       },
       "data": {
        "url": "http://localhost:50612/13c5a0a14dc6ba32a1c82436d4f741dd.json"
       },
       "hconcat": [
        {
         "encoding": {
          "color": {
           "field": "region",
           "title": "Region",
           "type": "nominal"
          },
          "column": {
           "field": "region",
           "header": {
            "labelOrient": "bottom",
            "labelPadding": 0,
            "titleOrient": "bottom"
           },
           "title": "Region",
           "type": "nominal"
          },
          "opacity": {
           "condition": {
            "selection": "selector001",
            "value": 1
           },
           "value": 0.01
          },
          "x": {
           "axis": {
            "grid": false,
            "labels": false,
            "ticks": true,
            "values": [
             0
            ]
           },
           "field": "density",
           "impute": null,
           "stack": "center",
           "title": null,
           "type": "quantitative"
          },
          "y": {
           "field": "wage",
           "title": "Wage (Euros)",
           "type": "quantitative"
          }
         },
         "height": 400,
         "mark": {
          "orient": "horizontal",
          "type": "area"
         },
         "selection": {
          "selector001": {
           "bind": "legend",
           "fields": [
            "region"
           ],
           "type": "single"
          },
          "selector002": {
           "empty": "all",
           "encodings": [
            "y"
           ],
           "resolve": "global",
           "type": "interval"
          }
         },
         "title": "Wage Distribution By Region (Continent)",
         "transform": [
          {
           "as": [
            "wage",
            "density"
           ],
           "density": "wage",
           "extent": [
            10000,
            250000
           ],
           "groupby": [
            "region",
            "attribute"
           ]
          },
          {
           "filter": {
            "selection": "Select"
           }
          }
         ],
         "width": 100
        },
        {
         "encoding": {
          "color": {
           "field": "region",
           "type": "nominal"
          },
          "x": {
           "bin": {
            "maxbins": 50
           },
           "field": "value",
           "type": "quantitative"
          },
          "y": {
           "aggregate": "count",
           "type": "quantitative"
          }
         },
         "mark": "bar",
         "selection": {
          "Select": {
           "bind": {
            "attribute": {
             "input": "select",
             "options": [
              "age",
              "overall",
              "potential",
              "skill_move",
              "height",
              "dribbling",
              "ball_control",
              "sprint_speed",
              "strength",
              "shot_power",
              "stamina",
              "aggression"
             ]
            }
           },
           "init": {
            "attribute": "age"
           },
           "type": "single"
          },
          "selector001": {
           "bind": "legend",
           "fields": [
            "region"
           ],
           "type": "single"
          }
         },
         "transform": [
          {
           "filter": {
            "selection": {
             "and": [
              {
               "and": [
                "Select",
                "selector002"
               ]
              },
              "selector001"
             ]
            }
           }
          }
         ]
        }
       ]
      },
      "image/png": "[encoded data removed]",
      "text/plain": [
       "<VegaLite 4 object>\n",
       "\n",
       "If you see this message, it means the renderer has not been properly enabled\n",
       "for the frontend that you are using. For more information, see\n",
       "https://altair-viz.github.io/user_guide/troubleshooting.html\n"
      ]
     },
     "execution_count": 6,
     "metadata": {},
     "output_type": "execute_result"
    }
   ],
   "source": [
    "t2_plot"
   ]
  }
 ],
 "metadata": {
  "kernelspec": {
   "display_name": "Python [conda env:dsci320]",
   "language": "python",
   "name": "conda-env-dsci320-py"
  },
  "language_info": {
   "codemirror_mode": {
    "name": "ipython",
    "version": 3
   },
   "file_extension": ".py",
   "mimetype": "text/x-python",
   "name": "python",
   "nbconvert_exporter": "python",
   "pygments_lexer": "ipython3",
   "version": "3.10.9"
  }
 },
 "nbformat": 4,
 "nbformat_minor": 5
}
