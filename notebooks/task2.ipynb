{
 "cells": [
  {
   "cell_type": "markdown",
   "id": "1b812613-3a79-47c8-bb06-cf8096d952ce",
   "metadata": {},
   "source": [
    "## This notebook is for Task 2 only\n",
    "\n",
    "Improvements Task 2:\n",
    "\n",
    "- Refer to one of the picture sent of whatsapp\n",
    "- Could split chart into two/three views:\n",
    "    + one is all wages, ranging from mininum to max\n",
    "    + other is some wages, ranging from minimum to user-selected end point\n",
    "    + And above two stack together vertically?\n",
    "- Violin plots can zoom by changing the ranges\n",
    "- Add another two more charts that are \"weighted\" by attribute 1 (one chart), attribute 2 (another chart), and these two could have selection filters on the wages violin plot\n",
    "- Consider dropdown filter by region/country"
   ]
  },
  {
   "cell_type": "code",
   "execution_count": 1,
   "id": "9c4131aa-8c86-4945-be6a-01e3b58da497",
   "metadata": {},
   "outputs": [],
   "source": [
    "# imports\n",
    "import altair as alt\n",
    "import pandas as pd\n",
    "import sys\n",
    "import os\n",
    "# altair specific\n",
    "alt.data_transformers.disable_max_rows()\n",
    "alt.data_transformers.enable('data_server')\n",
    "alt.renderers.enable('mimetype')\n",
    "# adds parent directory to this notebook, so it could use relative import\n",
    "sys.path.append(os.path.dirname(os.getcwd()))\n",
    "\n",
    "# user defined modules\n",
    "from src.helpers import preprocessing\n"
   ]
  },
  {
   "cell_type": "code",
   "execution_count": 4,
   "id": "9436bd6f-ca5b-4c35-ac45-923148f691c7",
   "metadata": {},
   "outputs": [],
   "source": [
    "# helper function\n",
    "def get_data(data_path, preprocess=False):\n",
    "    data = pd.read_csv(data_path)\n",
    "    if preprocess is True:\n",
    "        fifa_subset = preprocessing(data)\n",
    "        # store to data\n",
    "        data = fifa_subset\n",
    "    return data"
   ]
  },
  {
   "cell_type": "code",
   "execution_count": 5,
   "id": "4cf8c12f-d4bf-4bcb-ba33-e06586e2ee55",
   "metadata": {},
   "outputs": [],
   "source": [
    "# read data here\n",
    "data_path = \"data/player_raw_data.csv\"\n",
    "# this is raw data\n",
    "fifa = get_data(data_path)\n",
    "# this is processed for Task 5 specific\n",
    "subset = get_data(data_path, preprocess=True)"
   ]
  },
  {
   "cell_type": "code",
   "execution_count": null,
   "id": "7d902374-d47f-4af6-9b54-813de324215c",
   "metadata": {},
   "outputs": [],
   "source": []
  }
 ],
 "metadata": {
  "kernelspec": {
   "display_name": "Python [conda env:dsci320]",
   "language": "python",
   "name": "conda-env-dsci320-py"
  },
  "language_info": {
   "codemirror_mode": {
    "name": "ipython",
    "version": 3
   },
   "file_extension": ".py",
   "mimetype": "text/x-python",
   "name": "python",
   "nbconvert_exporter": "python",
   "pygments_lexer": "ipython3",
   "version": "3.10.9"
  }
 },
 "nbformat": 4,
 "nbformat_minor": 5
}
